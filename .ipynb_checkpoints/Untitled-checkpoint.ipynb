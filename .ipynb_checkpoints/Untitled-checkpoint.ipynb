{
 "cells": [
  {
   "cell_type": "code",
   "execution_count": 17,
   "metadata": {},
   "outputs": [],
   "source": [
    "import requests\n",
    "from bs4 import BeautifulSoup\n",
    "import pandas as pd"
   ]
  },
  {
   "cell_type": "code",
   "execution_count": 22,
   "metadata": {},
   "outputs": [],
   "source": [
    "# This is the url you will scrape in this exercise\n",
    "url = 'https://www.idealista.com/inmueble/86432015/'"
   ]
  },
  {
   "cell_type": "code",
   "execution_count": 23,
   "metadata": {},
   "outputs": [],
   "source": [
    "# checking idealista\n",
    "url = 'https://www.idealista.com/inmueble/86432015/'\n",
    "res = requests.get(url)\n",
    "html = res.text\n",
    "soup = BeautifulSoup(html,'html.parser')\n",
    "##print(html)"
   ]
  },
  {
   "cell_type": "code",
   "execution_count": 24,
   "metadata": {},
   "outputs": [
    {
     "name": "stdout",
     "output_type": "stream",
     "text": [
      "[<div class=\"customer-logo-wrapper\"> <div class=\"customer-logo\"> <img alt=\"Logo\" src=\"https://st1.idealista.com/static/common/img/icons/logo4.png\"/> </div></div>, <div class=\"customer-logo\"> <img alt=\"Logo\" src=\"https://st1.idealista.com/static/common/img/icons/logo4.png\"/> </div>, <div class=\"page-title-wrapper\"> <div class=\"page-title\"> <h1></h1> </div></div>, <div class=\"page-title\"> <h1></h1> </div>, <div class=\"content-wrapper\"> <div class=\"content\"> <p>Vaya! parece que estamos recibiendo muchas peticiones tuyas en poco tiempo <br/>Para ver que realmente eres tú y no un maligno robot, te pedimos que hagas la siguiente validación:</p><div id=\"px-captcha\"> </div><p> Un saludo,<br/>El equipo de idealista</p><p> Reference ID: #80b05840-1c0b-11ea-94ee-9116408ff07c </p><p>¿No consigues pasar de aquí?<br/>Atención personalizada <strong>902 55 98 58</strong><br/>Coste de una llamada provincial<br/>Lunes a Viernes de 9:00 a 21:00</p><p id=\"copyright\">Copyright © 2000-<span id=\"year\"></span> idealista</p></div></div>, <div class=\"content\"> <p>Vaya! parece que estamos recibiendo muchas peticiones tuyas en poco tiempo <br/>Para ver que realmente eres tú y no un maligno robot, te pedimos que hagas la siguiente validación:</p><div id=\"px-captcha\"> </div><p> Un saludo,<br/>El equipo de idealista</p><p> Reference ID: #80b05840-1c0b-11ea-94ee-9116408ff07c </p><p>¿No consigues pasar de aquí?<br/>Atención personalizada <strong>902 55 98 58</strong><br/>Coste de una llamada provincial<br/>Lunes a Viernes de 9:00 a 21:00</p><p id=\"copyright\">Copyright © 2000-<span id=\"year\"></span> idealista</p></div>, <div id=\"px-captcha\"> </div>, <div class=\"page-footer-wrapper\"> <div class=\"page-footer\"> <p> Powered by <a href=\"https://www.perimeterx.com\">PerimeterX</a> , Inc. </p></div></div>, <div class=\"page-footer\"> <p> Powered by <a href=\"https://www.perimeterx.com\">PerimeterX</a> , Inc. </p></div>]\n"
     ]
    }
   ],
   "source": [
    "test=soup.find_all(\"div\")\n",
    "##test = soup.findAll('div',{\"class\":\"info-data\"})\n",
    "print(test)\n",
    "\n",
    "##<div class=\"info-data\"> <span class=\"info-data-price\"><span class=\"txt-bold\">1.995.000</span> €</span> </div>"
   ]
  },
  {
   "cell_type": "code",
   "execution_count": 32,
   "metadata": {},
   "outputs": [],
   "source": [
    "# checking fotocasa\n",
    "url2 = 'https://www.fotocasa.es/es/comprar/vivienda/madrid-capital/aire-acondicionado-calefaccion-ascensor/152850257/d?RowGrid=1&tti=1&opi=300'\n",
    "res2 = requests.get(url2)\n",
    "html2 = res2.text\n",
    "soup2 = BeautifulSoup(html2,'html.parser')\n",
    "##print(html)"
   ]
  },
  {
   "cell_type": "code",
   "execution_count": 34,
   "metadata": {},
   "outputs": [
    {
     "ename": "AttributeError",
     "evalue": "ResultSet object has no attribute 'head'. You're probably treating a list of items like a single item. Did you call find_all() when you meant to call find()?",
     "output_type": "error",
     "traceback": [
      "\u001b[0;31m---------------------------------------------------------------------------\u001b[0m",
      "\u001b[0;31mAttributeError\u001b[0m                            Traceback (most recent call last)",
      "\u001b[0;32m<ipython-input-34-931752bdf3a0>\u001b[0m in \u001b[0;36m<module>\u001b[0;34m\u001b[0m\n\u001b[1;32m      1\u001b[0m \u001b[0mtest2\u001b[0m\u001b[0;34m=\u001b[0m\u001b[0msoup2\u001b[0m\u001b[0;34m.\u001b[0m\u001b[0mfind_all\u001b[0m\u001b[0;34m(\u001b[0m\u001b[0;34m\"div\"\u001b[0m\u001b[0;34m)\u001b[0m\u001b[0;34m\u001b[0m\u001b[0;34m\u001b[0m\u001b[0m\n\u001b[0;32m----> 2\u001b[0;31m \u001b[0mprint\u001b[0m\u001b[0;34m(\u001b[0m\u001b[0mtest2\u001b[0m\u001b[0;34m.\u001b[0m\u001b[0mhead\u001b[0m\u001b[0;34m(\u001b[0m\u001b[0;36m20\u001b[0m\u001b[0;34m)\u001b[0m\u001b[0;34m)\u001b[0m\u001b[0;34m\u001b[0m\u001b[0;34m\u001b[0m\u001b[0m\n\u001b[0m",
      "\u001b[0;32m~/.local/lib/python3.6/site-packages/bs4/element.py\u001b[0m in \u001b[0;36m__getattr__\u001b[0;34m(self, key)\u001b[0m\n\u001b[1;32m   1600\u001b[0m     \u001b[0;32mdef\u001b[0m \u001b[0m__getattr__\u001b[0m\u001b[0;34m(\u001b[0m\u001b[0mself\u001b[0m\u001b[0;34m,\u001b[0m \u001b[0mkey\u001b[0m\u001b[0;34m)\u001b[0m\u001b[0;34m:\u001b[0m\u001b[0;34m\u001b[0m\u001b[0;34m\u001b[0m\u001b[0m\n\u001b[1;32m   1601\u001b[0m         raise AttributeError(\n\u001b[0;32m-> 1602\u001b[0;31m             \u001b[0;34m\"ResultSet object has no attribute '%s'. You're probably treating a list of items like a single item. Did you call find_all() when you meant to call find()?\"\u001b[0m \u001b[0;34m%\u001b[0m \u001b[0mkey\u001b[0m\u001b[0;34m\u001b[0m\u001b[0;34m\u001b[0m\u001b[0m\n\u001b[0m\u001b[1;32m   1603\u001b[0m         )\n",
      "\u001b[0;31mAttributeError\u001b[0m: ResultSet object has no attribute 'head'. You're probably treating a list of items like a single item. Did you call find_all() when you meant to call find()?"
     ]
    }
   ],
   "source": [
    "test2=soup2.find_all(\"div\")\n",
    "#print(test2)"
   ]
  },
  {
   "cell_type": "code",
   "execution_count": null,
   "metadata": {},
   "outputs": [],
   "source": [
    "##test2 = soup2.findAll('div',{\"class\":\"info-data\"})"
   ]
  }
 ],
 "metadata": {
  "kernelspec": {
   "display_name": "Python 3",
   "language": "python",
   "name": "python3"
  },
  "language_info": {
   "codemirror_mode": {
    "name": "ipython",
    "version": 3
   },
   "file_extension": ".py",
   "mimetype": "text/x-python",
   "name": "python",
   "nbconvert_exporter": "python",
   "pygments_lexer": "ipython3",
   "version": "3.6.8"
  }
 },
 "nbformat": 4,
 "nbformat_minor": 2
}
